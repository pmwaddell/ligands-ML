{
 "cells": [
  {
   "cell_type": "code",
   "execution_count": 1,
   "id": "73763b3d-ddf0-4bc1-b6e9-30ffc7571ad5",
   "metadata": {},
   "outputs": [],
   "source": [
    "import py3Dmol\n",
    "from rdkit import Chem\n",
    "from rdkit.Chem import AllChem, rdDistGeom\n",
    "from rdkit.Chem.Draw import IPythonConsole"
   ]
  },
  {
   "cell_type": "code",
   "execution_count": 2,
   "id": "01cc90f4-b181-44ff-b3d7-09adb092b620",
   "metadata": {},
   "outputs": [],
   "source": [
    "# ok start with Ph3P\n",
    "p = Chem.MolFromSmiles(\"C1=CC=C(C=C1)P(C2=CC=CC=C2)C3=CC=CC=C3\")\n",
    "p = Chem.AddHs(p)  # Necessary for reasonable conformers."
   ]
  },
  {
   "cell_type": "code",
   "execution_count": 3,
   "id": "3c7904b8-3584-4cb2-a245-ea4cb26fdffb",
   "metadata": {},
   "outputs": [],
   "source": [
    "# will need to do conformer search\n",
    "# see https://greglandrum.github.io/rdkit-blog/posts/2023-02-04-working-with-conformers.html\n",
    "# https://github.com/mcsorkun/Conformer-Search/blob/master/ff_conformer_search2.py\n",
    "conf_ids = rdDistGeom.EmbedMultipleConfs(p, numConfs=100, randomSeed=0xf00d)"
   ]
  },
  {
   "cell_type": "code",
   "execution_count": 4,
   "id": "c15c8d9e-b237-4f72-aa68-b3d6a89b918d",
   "metadata": {},
   "outputs": [],
   "source": []
  },
  {
   "cell_type": "code",
   "execution_count": 5,
   "id": "8b36f953-c7a9-4702-bbb6-c44e20dc2023",
   "metadata": {},
   "outputs": [
    {
     "name": "stdout",
     "output_type": "stream",
     "text": [
      "Lowest energy conformer: 29    with energy: 65.5846287262111\n"
     ]
    }
   ],
   "source": [
    "results = Chem.rdForceFieldHelpers.MMFFOptimizeMoleculeConfs(p)\n",
    "\n",
    "# Find the lowest energy conformer:\n",
    "min_energy = results[0][1]\n",
    "min_energy_index = 0\n",
    "for i, conf in enumerate(results):\n",
    "    if results[i][0] == 0 and results[i][1] < min_energy:\n",
    "        min_energy_index = i\n",
    "        min_energy = results[i][1]\n",
    "\n",
    "print(\"Lowest energy conformer: \" + str(min_energy_index) + \"    with energy: \" + str(min_energy))"
   ]
  },
  {
   "cell_type": "code",
   "execution_count": 10,
   "id": "7939c2bf-3645-44c8-a65e-771882538fad",
   "metadata": {},
   "outputs": [
    {
     "name": "stdout",
     "output_type": "stream",
     "text": [
      "\n",
      "     RDKit          3D\n",
      "\n",
      "  0  0  0  0  0  0  0  0  0  0999 V3000\n",
      "M  V30 BEGIN CTAB\n",
      "M  V30 COUNTS 34 36 0 0 0\n",
      "M  V30 BEGIN ATOM\n",
      "M  V30 1 C -2.741060 -3.020229 -1.489010 0\n",
      "M  V30 2 C -1.371196 -2.882632 -1.693844 0\n",
      "M  V30 3 C -0.627561 -1.994042 -0.910103 0\n",
      "M  V30 4 C -1.240934 -1.226132 0.090755 0\n",
      "M  V30 5 C -2.625716 -1.382919 0.282971 0\n",
      "M  V30 6 C -3.369524 -2.270224 -0.500016 0\n",
      "M  V30 7 P -0.359840 -0.044681 1.163400 0\n",
      "M  V30 8 C -0.629073 1.569367 0.360230 0\n",
      "M  V30 9 C -1.157340 1.732119 -0.928985 0\n",
      "M  V30 10 C -1.336547 3.005918 -1.478671 0\n",
      "M  V30 11 C -0.992356 4.139404 -0.747811 0\n",
      "M  V30 12 C -0.469079 4.001298 0.533865 0\n",
      "M  V30 13 C -0.290757 2.728210 1.082571 0\n",
      "M  V30 14 C 1.402219 -0.401320 0.862276 0\n",
      "M  V30 15 C 2.211855 0.314918 -0.031661 0\n",
      "M  V30 16 C 3.559079 -0.017596 -0.208457 0\n",
      "M  V30 17 C 4.120701 -1.071089 0.507190 0\n",
      "M  V30 18 C 3.336607 -1.793387 1.401096 0\n",
      "M  V30 19 C 1.990685 -1.460225 1.577523 0\n",
      "M  V30 20 H -3.316894 -3.711552 -2.098364 0\n",
      "M  V30 21 H -0.875121 -3.467071 -2.464565 0\n",
      "M  V30 22 H 0.438489 -1.914527 -1.106776 0\n",
      "M  V30 23 H -3.143528 -0.807663 1.048836 0\n",
      "M  V30 24 H -4.438656 -2.373387 -0.334290 0\n",
      "M  V30 25 H -1.435081 0.874289 -1.535990 0\n",
      "M  V30 26 H -1.746772 3.108350 -2.480117 0\n",
      "M  V30 27 H -1.132982 5.128083 -1.176253 0\n",
      "M  V30 28 H -0.198990 4.882183 1.110272 0\n",
      "M  V30 29 H 0.121919 2.649544 2.087114 0\n",
      "M  V30 30 H 1.813011 1.141578 -0.613919 0\n",
      "M  V30 31 H 4.167626 0.550619 -0.907366 0\n",
      "M  V30 32 H 5.167615 -1.327414 0.369013 0\n",
      "M  V30 33 H 3.769013 -2.616618 1.963649 0\n",
      "M  V30 34 H 1.400187 -2.043172 2.282564 0\n",
      "M  V30 END ATOM\n",
      "M  V30 BEGIN BOND\n",
      "M  V30 1 2 1 2\n",
      "M  V30 2 1 2 3\n",
      "M  V30 3 2 3 4\n",
      "M  V30 4 1 4 5\n",
      "M  V30 5 2 5 6\n",
      "M  V30 6 1 4 7\n",
      "M  V30 7 1 7 8\n",
      "M  V30 8 2 8 9\n",
      "M  V30 9 1 9 10\n",
      "M  V30 10 2 10 11\n",
      "M  V30 11 1 11 12\n",
      "M  V30 12 2 12 13\n",
      "M  V30 13 1 7 14\n",
      "M  V30 14 2 14 15\n",
      "M  V30 15 1 15 16\n",
      "M  V30 16 2 16 17\n",
      "M  V30 17 1 17 18\n",
      "M  V30 18 2 18 19\n",
      "M  V30 19 1 6 1\n",
      "M  V30 20 1 13 8\n",
      "M  V30 21 1 19 14\n",
      "M  V30 22 1 1 20\n",
      "M  V30 23 1 2 21\n",
      "M  V30 24 1 3 22\n",
      "M  V30 25 1 5 23\n",
      "M  V30 26 1 6 24\n",
      "M  V30 27 1 9 25\n",
      "M  V30 28 1 10 26\n",
      "M  V30 29 1 11 27\n",
      "M  V30 30 1 12 28\n",
      "M  V30 31 1 13 29\n",
      "M  V30 32 1 15 30\n",
      "M  V30 33 1 16 31\n",
      "M  V30 34 1 17 32\n",
      "M  V30 35 1 18 33\n",
      "M  V30 36 1 19 34\n",
      "M  V30 END BOND\n",
      "M  V30 END CTAB\n",
      "M  END\n",
      "\n"
     ]
    }
   ],
   "source": [
    "print(Chem.MolToV3KMolBlock(p, confId=29))"
   ]
  },
  {
   "cell_type": "code",
   "execution_count": 11,
   "id": "73e491ab-b2bc-44bf-9abf-41bf7d9f8e55",
   "metadata": {},
   "outputs": [
    {
     "data": {
      "application/3dmoljs_load.v0": "<div id=\"3dmolviewer_17303422245181756\"  style=\"position: relative; width: 400px; height: 400px;\">\n        <p id=\"3dmolwarning_17303422245181756\" style=\"background-color:#ffcccc;color:black\">3Dmol.js failed to load for some reason.  Please check your browser console for error messages.<br></p>\n        </div>\n<script>\n\nvar loadScriptAsync = function(uri){\n  return new Promise((resolve, reject) => {\n    //this is to ignore the existence of requirejs amd\n    var savedexports, savedmodule;\n    if (typeof exports !== 'undefined') savedexports = exports;\n    else exports = {}\n    if (typeof module !== 'undefined') savedmodule = module;\n    else module = {}\n\n    var tag = document.createElement('script');\n    tag.src = uri;\n    tag.async = true;\n    tag.onload = () => {\n        exports = savedexports;\n        module = savedmodule;\n        resolve();\n    };\n  var firstScriptTag = document.getElementsByTagName('script')[0];\n  firstScriptTag.parentNode.insertBefore(tag, firstScriptTag);\n});\n};\n\nif(typeof $3Dmolpromise === 'undefined') {\n$3Dmolpromise = null;\n  $3Dmolpromise = loadScriptAsync('https://cdnjs.cloudflare.com/ajax/libs/3Dmol/2.4.0/3Dmol-min.js');\n}\n\nvar viewer_17303422245181756 = null;\nvar warn = document.getElementById(\"3dmolwarning_17303422245181756\");\nif(warn) {\n    warn.parentNode.removeChild(warn);\n}\n$3Dmolpromise.then(function() {\nviewer_17303422245181756 = $3Dmol.createViewer(document.getElementById(\"3dmolviewer_17303422245181756\"),{backgroundColor:\"white\"});\nviewer_17303422245181756.zoomTo();\n\tviewer_17303422245181756.removeAllModels();\n\tviewer_17303422245181756.addModel(\"\\n     RDKit          3D\\n\\n 34 36  0  0  0  0  0  0  0  0999 V2000\\n   -2.7411   -3.0202   -1.4890 C   0  0  0  0  0  0  0  0  0  0  0  0\\n   -1.3712   -2.8826   -1.6938 C   0  0  0  0  0  0  0  0  0  0  0  0\\n   -0.6276   -1.9940   -0.9101 C   0  0  0  0  0  0  0  0  0  0  0  0\\n   -1.2409   -1.2261    0.0908 C   0  0  0  0  0  0  0  0  0  0  0  0\\n   -2.6257   -1.3829    0.2830 C   0  0  0  0  0  0  0  0  0  0  0  0\\n   -3.3695   -2.2702   -0.5000 C   0  0  0  0  0  0  0  0  0  0  0  0\\n   -0.3598   -0.0447    1.1634 P   0  0  0  0  0  0  0  0  0  0  0  0\\n   -0.6291    1.5694    0.3602 C   0  0  0  0  0  0  0  0  0  0  0  0\\n   -1.1573    1.7321   -0.9290 C   0  0  0  0  0  0  0  0  0  0  0  0\\n   -1.3365    3.0059   -1.4787 C   0  0  0  0  0  0  0  0  0  0  0  0\\n   -0.9924    4.1394   -0.7478 C   0  0  0  0  0  0  0  0  0  0  0  0\\n   -0.4691    4.0013    0.5339 C   0  0  0  0  0  0  0  0  0  0  0  0\\n   -0.2908    2.7282    1.0826 C   0  0  0  0  0  0  0  0  0  0  0  0\\n    1.4022   -0.4013    0.8623 C   0  0  0  0  0  0  0  0  0  0  0  0\\n    2.2119    0.3149   -0.0317 C   0  0  0  0  0  0  0  0  0  0  0  0\\n    3.5591   -0.0176   -0.2085 C   0  0  0  0  0  0  0  0  0  0  0  0\\n    4.1207   -1.0711    0.5072 C   0  0  0  0  0  0  0  0  0  0  0  0\\n    3.3366   -1.7934    1.4011 C   0  0  0  0  0  0  0  0  0  0  0  0\\n    1.9907   -1.4602    1.5775 C   0  0  0  0  0  0  0  0  0  0  0  0\\n   -3.3169   -3.7116   -2.0984 H   0  0  0  0  0  0  0  0  0  0  0  0\\n   -0.8751   -3.4671   -2.4646 H   0  0  0  0  0  0  0  0  0  0  0  0\\n    0.4385   -1.9145   -1.1068 H   0  0  0  0  0  0  0  0  0  0  0  0\\n   -3.1435   -0.8077    1.0488 H   0  0  0  0  0  0  0  0  0  0  0  0\\n   -4.4387   -2.3734   -0.3343 H   0  0  0  0  0  0  0  0  0  0  0  0\\n   -1.4351    0.8743   -1.5360 H   0  0  0  0  0  0  0  0  0  0  0  0\\n   -1.7468    3.1084   -2.4801 H   0  0  0  0  0  0  0  0  0  0  0  0\\n   -1.1330    5.1281   -1.1763 H   0  0  0  0  0  0  0  0  0  0  0  0\\n   -0.1990    4.8822    1.1103 H   0  0  0  0  0  0  0  0  0  0  0  0\\n    0.1219    2.6495    2.0871 H   0  0  0  0  0  0  0  0  0  0  0  0\\n    1.8130    1.1416   -0.6139 H   0  0  0  0  0  0  0  0  0  0  0  0\\n    4.1676    0.5506   -0.9074 H   0  0  0  0  0  0  0  0  0  0  0  0\\n    5.1676   -1.3274    0.3690 H   0  0  0  0  0  0  0  0  0  0  0  0\\n    3.7690   -2.6166    1.9636 H   0  0  0  0  0  0  0  0  0  0  0  0\\n    1.4002   -2.0432    2.2826 H   0  0  0  0  0  0  0  0  0  0  0  0\\n  1  2  2  0\\n  2  3  1  0\\n  3  4  2  0\\n  4  5  1  0\\n  5  6  2  0\\n  4  7  1  0\\n  7  8  1  0\\n  8  9  2  0\\n  9 10  1  0\\n 10 11  2  0\\n 11 12  1  0\\n 12 13  2  0\\n  7 14  1  0\\n 14 15  2  0\\n 15 16  1  0\\n 16 17  2  0\\n 17 18  1  0\\n 18 19  2  0\\n  6  1  1  0\\n 13  8  1  0\\n 19 14  1  0\\n  1 20  1  0\\n  2 21  1  0\\n  3 22  1  0\\n  5 23  1  0\\n  6 24  1  0\\n  9 25  1  0\\n 10 26  1  0\\n 11 27  1  0\\n 12 28  1  0\\n 13 29  1  0\\n 15 30  1  0\\n 16 31  1  0\\n 17 32  1  0\\n 18 33  1  0\\n 19 34  1  0\\nM  END\\n\",\"sdf\");\n\tviewer_17303422245181756.setStyle({\"stick\": {}});\n\tviewer_17303422245181756.setBackgroundColor(\"0xeeeeee\");\n\tviewer_17303422245181756.zoomTo();\nviewer_17303422245181756.render();\n});\n</script>",
      "text/html": [
       "<div id=\"3dmolviewer_17303422245181756\"  style=\"position: relative; width: 400px; height: 400px;\">\n",
       "        <p id=\"3dmolwarning_17303422245181756\" style=\"background-color:#ffcccc;color:black\">3Dmol.js failed to load for some reason.  Please check your browser console for error messages.<br></p>\n",
       "        </div>\n",
       "<script>\n",
       "\n",
       "var loadScriptAsync = function(uri){\n",
       "  return new Promise((resolve, reject) => {\n",
       "    //this is to ignore the existence of requirejs amd\n",
       "    var savedexports, savedmodule;\n",
       "    if (typeof exports !== 'undefined') savedexports = exports;\n",
       "    else exports = {}\n",
       "    if (typeof module !== 'undefined') savedmodule = module;\n",
       "    else module = {}\n",
       "\n",
       "    var tag = document.createElement('script');\n",
       "    tag.src = uri;\n",
       "    tag.async = true;\n",
       "    tag.onload = () => {\n",
       "        exports = savedexports;\n",
       "        module = savedmodule;\n",
       "        resolve();\n",
       "    };\n",
       "  var firstScriptTag = document.getElementsByTagName('script')[0];\n",
       "  firstScriptTag.parentNode.insertBefore(tag, firstScriptTag);\n",
       "});\n",
       "};\n",
       "\n",
       "if(typeof $3Dmolpromise === 'undefined') {\n",
       "$3Dmolpromise = null;\n",
       "  $3Dmolpromise = loadScriptAsync('https://cdnjs.cloudflare.com/ajax/libs/3Dmol/2.4.0/3Dmol-min.js');\n",
       "}\n",
       "\n",
       "var viewer_17303422245181756 = null;\n",
       "var warn = document.getElementById(\"3dmolwarning_17303422245181756\");\n",
       "if(warn) {\n",
       "    warn.parentNode.removeChild(warn);\n",
       "}\n",
       "$3Dmolpromise.then(function() {\n",
       "viewer_17303422245181756 = $3Dmol.createViewer(document.getElementById(\"3dmolviewer_17303422245181756\"),{backgroundColor:\"white\"});\n",
       "viewer_17303422245181756.zoomTo();\n",
       "\tviewer_17303422245181756.removeAllModels();\n",
       "\tviewer_17303422245181756.addModel(\"\\n     RDKit          3D\\n\\n 34 36  0  0  0  0  0  0  0  0999 V2000\\n   -2.7411   -3.0202   -1.4890 C   0  0  0  0  0  0  0  0  0  0  0  0\\n   -1.3712   -2.8826   -1.6938 C   0  0  0  0  0  0  0  0  0  0  0  0\\n   -0.6276   -1.9940   -0.9101 C   0  0  0  0  0  0  0  0  0  0  0  0\\n   -1.2409   -1.2261    0.0908 C   0  0  0  0  0  0  0  0  0  0  0  0\\n   -2.6257   -1.3829    0.2830 C   0  0  0  0  0  0  0  0  0  0  0  0\\n   -3.3695   -2.2702   -0.5000 C   0  0  0  0  0  0  0  0  0  0  0  0\\n   -0.3598   -0.0447    1.1634 P   0  0  0  0  0  0  0  0  0  0  0  0\\n   -0.6291    1.5694    0.3602 C   0  0  0  0  0  0  0  0  0  0  0  0\\n   -1.1573    1.7321   -0.9290 C   0  0  0  0  0  0  0  0  0  0  0  0\\n   -1.3365    3.0059   -1.4787 C   0  0  0  0  0  0  0  0  0  0  0  0\\n   -0.9924    4.1394   -0.7478 C   0  0  0  0  0  0  0  0  0  0  0  0\\n   -0.4691    4.0013    0.5339 C   0  0  0  0  0  0  0  0  0  0  0  0\\n   -0.2908    2.7282    1.0826 C   0  0  0  0  0  0  0  0  0  0  0  0\\n    1.4022   -0.4013    0.8623 C   0  0  0  0  0  0  0  0  0  0  0  0\\n    2.2119    0.3149   -0.0317 C   0  0  0  0  0  0  0  0  0  0  0  0\\n    3.5591   -0.0176   -0.2085 C   0  0  0  0  0  0  0  0  0  0  0  0\\n    4.1207   -1.0711    0.5072 C   0  0  0  0  0  0  0  0  0  0  0  0\\n    3.3366   -1.7934    1.4011 C   0  0  0  0  0  0  0  0  0  0  0  0\\n    1.9907   -1.4602    1.5775 C   0  0  0  0  0  0  0  0  0  0  0  0\\n   -3.3169   -3.7116   -2.0984 H   0  0  0  0  0  0  0  0  0  0  0  0\\n   -0.8751   -3.4671   -2.4646 H   0  0  0  0  0  0  0  0  0  0  0  0\\n    0.4385   -1.9145   -1.1068 H   0  0  0  0  0  0  0  0  0  0  0  0\\n   -3.1435   -0.8077    1.0488 H   0  0  0  0  0  0  0  0  0  0  0  0\\n   -4.4387   -2.3734   -0.3343 H   0  0  0  0  0  0  0  0  0  0  0  0\\n   -1.4351    0.8743   -1.5360 H   0  0  0  0  0  0  0  0  0  0  0  0\\n   -1.7468    3.1084   -2.4801 H   0  0  0  0  0  0  0  0  0  0  0  0\\n   -1.1330    5.1281   -1.1763 H   0  0  0  0  0  0  0  0  0  0  0  0\\n   -0.1990    4.8822    1.1103 H   0  0  0  0  0  0  0  0  0  0  0  0\\n    0.1219    2.6495    2.0871 H   0  0  0  0  0  0  0  0  0  0  0  0\\n    1.8130    1.1416   -0.6139 H   0  0  0  0  0  0  0  0  0  0  0  0\\n    4.1676    0.5506   -0.9074 H   0  0  0  0  0  0  0  0  0  0  0  0\\n    5.1676   -1.3274    0.3690 H   0  0  0  0  0  0  0  0  0  0  0  0\\n    3.7690   -2.6166    1.9636 H   0  0  0  0  0  0  0  0  0  0  0  0\\n    1.4002   -2.0432    2.2826 H   0  0  0  0  0  0  0  0  0  0  0  0\\n  1  2  2  0\\n  2  3  1  0\\n  3  4  2  0\\n  4  5  1  0\\n  5  6  2  0\\n  4  7  1  0\\n  7  8  1  0\\n  8  9  2  0\\n  9 10  1  0\\n 10 11  2  0\\n 11 12  1  0\\n 12 13  2  0\\n  7 14  1  0\\n 14 15  2  0\\n 15 16  1  0\\n 16 17  2  0\\n 17 18  1  0\\n 18 19  2  0\\n  6  1  1  0\\n 13  8  1  0\\n 19 14  1  0\\n  1 20  1  0\\n  2 21  1  0\\n  3 22  1  0\\n  5 23  1  0\\n  6 24  1  0\\n  9 25  1  0\\n 10 26  1  0\\n 11 27  1  0\\n 12 28  1  0\\n 13 29  1  0\\n 15 30  1  0\\n 16 31  1  0\\n 17 32  1  0\\n 18 33  1  0\\n 19 34  1  0\\nM  END\\n\",\"sdf\");\n",
       "\tviewer_17303422245181756.setStyle({\"stick\": {}});\n",
       "\tviewer_17303422245181756.setBackgroundColor(\"0xeeeeee\");\n",
       "\tviewer_17303422245181756.zoomTo();\n",
       "viewer_17303422245181756.render();\n",
       "});\n",
       "</script>"
      ]
     },
     "metadata": {},
     "output_type": "display_data"
    }
   ],
   "source": [
    "IPythonConsole.drawMol3D(p, confId=29)"
   ]
  },
  {
   "cell_type": "code",
   "execution_count": null,
   "id": "ba20d2d7-0e73-457d-b420-76bb9b99e382",
   "metadata": {},
   "outputs": [],
   "source": []
  }
 ],
 "metadata": {
  "kernelspec": {
   "display_name": "Python 3 (ipykernel)",
   "language": "python",
   "name": "python3"
  },
  "language_info": {
   "codemirror_mode": {
    "name": "ipython",
    "version": 3
   },
   "file_extension": ".py",
   "mimetype": "text/x-python",
   "name": "python",
   "nbconvert_exporter": "python",
   "pygments_lexer": "ipython3",
   "version": "3.13.0"
  }
 },
 "nbformat": 4,
 "nbformat_minor": 5
}
